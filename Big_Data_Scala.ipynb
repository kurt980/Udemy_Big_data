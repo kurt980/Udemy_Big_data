{
  "nbformat": 4,
  "nbformat_minor": 0,
  "metadata": {
    "colab": {
      "provenance": [],
      "authorship_tag": "ABX9TyOcgz6otwxqdb37g6cEO1A+",
      "include_colab_link": true
    },
    "kernelspec": {
      "name": "python3",
      "display_name": "Python 3"
    },
    "language_info": {
      "name": "python"
    }
  },
  "cells": [
    {
      "cell_type": "markdown",
      "metadata": {
        "id": "view-in-github",
        "colab_type": "text"
      },
      "source": [
        "<a href=\"https://colab.research.google.com/github/kurt980/Udemy_Big_data/blob/main/Big_Data_Scala.ipynb\" target=\"_parent\"><img src=\"https://colab.research.google.com/assets/colab-badge.svg\" alt=\"Open In Colab\"/></a>"
      ]
    },
    {
      "cell_type": "markdown",
      "source": [
        "## **Scala**"
      ],
      "metadata": {
        "id": "MZjqvsoqwDd-"
      }
    },
    {
      "cell_type": "markdown",
      "source": [
        "- **Easy to Learn**\n",
        "- **oop and functional programming**\n"
      ],
      "metadata": {
        "id": "e9w7zJtcwJ0l"
      }
    },
    {
      "cell_type": "markdown",
      "source": [
        "**Applications**\n",
        "- data science\n",
        "- data pipelines\n",
        "- microservices\n",
        "- video transcoding systems\n",
        "- data processing\n",
        "- real-time information processing\n",
        "- big data projects"
      ],
      "metadata": {
        "id": "xOX-4GQ_wJ3T"
      }
    },
    {
      "cell_type": "markdown",
      "source": [],
      "metadata": {
        "id": "CT7oBjuNwJ57"
      }
    },
    {
      "cell_type": "markdown",
      "source": [],
      "metadata": {
        "id": "KCD6bSyVwJ9W"
      }
    },
    {
      "cell_type": "code",
      "execution_count": null,
      "metadata": {
        "id": "_2L2b-NcVGG8"
      },
      "outputs": [],
      "source": []
    }
  ]
}