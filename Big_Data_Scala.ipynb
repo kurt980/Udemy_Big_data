{
  "nbformat": 4,
  "nbformat_minor": 0,
  "metadata": {
    "colab": {
      "provenance": [],
      "authorship_tag": "ABX9TyNV2/O3CPrLW19lAujQwZeW",
      "include_colab_link": true
    },
    "kernelspec": {
      "name": "python3",
      "display_name": "Python 3"
    },
    "language_info": {
      "name": "python"
    }
  },
  "cells": [
    {
      "cell_type": "markdown",
      "metadata": {
        "id": "view-in-github",
        "colab_type": "text"
      },
      "source": [
        "<a href=\"https://colab.research.google.com/github/kurt980/Udemy_Big_data/blob/main/Big_Data_Scala.ipynb\" target=\"_parent\"><img src=\"https://colab.research.google.com/assets/colab-badge.svg\" alt=\"Open In Colab\"/></a>"
      ]
    },
    {
      "cell_type": "markdown",
      "source": [
        "## **Scala**"
      ],
      "metadata": {
        "id": "MZjqvsoqwDd-"
      }
    },
    {
      "cell_type": "markdown",
      "source": [
        "- **Easy to Learn**\n",
        "- **oop and functional programming**\n"
      ],
      "metadata": {
        "id": "e9w7zJtcwJ0l"
      }
    },
    {
      "cell_type": "markdown",
      "source": [
        "**Applications**\n",
        "- data science\n",
        "- data pipelines\n",
        "- microservices\n",
        "- video transcoding systems\n",
        "- data processing\n",
        "- real-time information processing\n",
        "- big data projects"
      ],
      "metadata": {
        "id": "xOX-4GQ_wJ3T"
      }
    },
    {
      "cell_type": "markdown",
      "source": [
        "**Content**\n",
        "- Overview\n",
        "- Variables\n",
        "- Flow Control Statements\n",
        "- Functions\n",
        "- Classes\n",
        "- Data Structures\n",
        "- Scala Spark"
      ],
      "metadata": {
        "id": "CT7oBjuNwJ57"
      }
    },
    {
      "cell_type": "markdown",
      "source": [
        "**Projects Overview**\n",
        "- Mini Projects\n",
        "- Scala Spark\n",
        "- ETL pipeline from AWS S3 to RDS"
      ],
      "metadata": {
        "id": "KCD6bSyVwJ9W"
      }
    },
    {
      "cell_type": "markdown",
      "source": [
        "**What is Scala?**\n",
        "- OOP and functional programming\n",
        "- keeps Java libraries"
      ],
      "metadata": {
        "id": "wv0K_9T6tdu8"
      }
    },
    {
      "cell_type": "markdown",
      "source": [
        "## **Variables in Scala**\n"
      ],
      "metadata": {
        "id": "fqAZe2uktdxt"
      }
    },
    {
      "cell_type": "markdown",
      "source": [
        "### **Data Types**"
      ],
      "metadata": {
        "id": "MBa98uyRtd0R"
      }
    },
    {
      "cell_type": "markdown",
      "source": [
        "- Int\n",
        "- Float\n",
        "- Char\n",
        "- Byte"
      ],
      "metadata": {
        "id": "s2_l-hPStd22"
      }
    },
    {
      "cell_type": "markdown",
      "source": [
        "- Mutable Variables\n",
        "  - change after initialization\n",
        "- Immutable Variables\n",
        "  - cannot change"
      ],
      "metadata": {
        "id": "NF8xjVBLtd5a"
      }
    },
    {
      "cell_type": "markdown",
      "source": [
        "- val is immutable\n",
        "```\n",
        "object Main {\n",
        "  def main(args: Array[String]): Unit = {\n",
        "\n",
        "    val myvariable : Int = 10;\n",
        "    println(myvariable)\n",
        "\t\t// immutable!\n",
        "    myvariable = 15;\n",
        "    println(myvariable)\n",
        "  }\n",
        "}\n",
        "```\n",
        "\n",
        "- var is mutable\n",
        "```\n",
        "object Main {\n",
        "  def main(args: Array[String]): Unit = {\n",
        "\n",
        "    var myvariable : Int = 10;\n",
        "    println(myvariable)\n",
        "\t\t// immutable!\n",
        "    myvariable = 15;\n",
        "    println(myvariable)\n",
        "  }\n",
        "}\n",
        "```\n",
        "\n",
        "- var has different types\n",
        "```\n",
        "object Main {\n",
        "  def main(args: Array[String]): Unit = {\n",
        "\n",
        "    var myvariable : Int = 10;\n",
        "    println(myvariable)\n",
        "\t\t// immutable!\n",
        "    myvariable = 15;\n",
        "    println(myvariable)\n",
        "\n",
        "    var myVariable2: String = \"How\";\n",
        "    print(myVariable2)\n",
        "  }\n",
        "}\n",
        "```"
      ],
      "metadata": {
        "id": "QFAKm45utd7q"
      }
    },
    {
      "cell_type": "markdown",
      "source": [
        "### Arithmatic Operations\n",
        "- +\n",
        "- semicolons are optional\n",
        "- String methods\n",
        "  - ```\n",
        "      object Main {\n",
        "      def main(args: Array[String]): Unit = {\n",
        "\n",
        "        var a : String = \"How are you\";\n",
        "        var b : String = \"I am fine\";\n",
        "\n",
        "        println(a + b);\n",
        "        println(a.concat(b))\n",
        "        println(a.length());  \n",
        "      }\n",
        "    }\n",
        "\n",
        "    How are youI am fine\n",
        "    11\n",
        "    ```"
      ],
      "metadata": {
        "id": "2Q6Xxpp68PaQ"
      }
    },
    {
      "cell_type": "markdown",
      "source": [],
      "metadata": {
        "id": "v1thA4-98Pc7"
      }
    },
    {
      "cell_type": "markdown",
      "source": [],
      "metadata": {
        "id": "JIcSlQXZ8Pfn"
      }
    },
    {
      "cell_type": "markdown",
      "source": [],
      "metadata": {
        "id": "gY2Wd94L8Ph_"
      }
    },
    {
      "cell_type": "code",
      "execution_count": null,
      "metadata": {
        "id": "_2L2b-NcVGG8"
      },
      "outputs": [],
      "source": []
    }
  ]
}