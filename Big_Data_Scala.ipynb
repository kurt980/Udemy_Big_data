{
  "nbformat": 4,
  "nbformat_minor": 0,
  "metadata": {
    "colab": {
      "provenance": [],
      "authorship_tag": "ABX9TyMotca/L4kiMxoAzdPEYyA/",
      "include_colab_link": true
    },
    "kernelspec": {
      "name": "python3",
      "display_name": "Python 3"
    },
    "language_info": {
      "name": "python"
    }
  },
  "cells": [
    {
      "cell_type": "markdown",
      "metadata": {
        "id": "view-in-github",
        "colab_type": "text"
      },
      "source": [
        "<a href=\"https://colab.research.google.com/github/kurt980/Udemy_Big_data/blob/main/Big_Data_Scala.ipynb\" target=\"_parent\"><img src=\"https://colab.research.google.com/assets/colab-badge.svg\" alt=\"Open In Colab\"/></a>"
      ]
    },
    {
      "cell_type": "markdown",
      "source": [
        "## **Scala**"
      ],
      "metadata": {
        "id": "MZjqvsoqwDd-"
      }
    },
    {
      "cell_type": "markdown",
      "source": [
        "- **Easy to Learn**\n",
        "- **oop and functional programming**\n"
      ],
      "metadata": {
        "id": "e9w7zJtcwJ0l"
      }
    },
    {
      "cell_type": "markdown",
      "source": [
        "**Applications**\n",
        "- data science\n",
        "- data pipelines\n",
        "- microservices\n",
        "- video transcoding systems\n",
        "- data processing\n",
        "- real-time information processing\n",
        "- big data projects"
      ],
      "metadata": {
        "id": "xOX-4GQ_wJ3T"
      }
    },
    {
      "cell_type": "markdown",
      "source": [
        "**Content**\n",
        "- Overview\n",
        "- Variables\n",
        "- Flow Control Statements\n",
        "- Functions\n",
        "- Classes\n",
        "- Data Structures\n",
        "- Scala Spark"
      ],
      "metadata": {
        "id": "CT7oBjuNwJ57"
      }
    },
    {
      "cell_type": "markdown",
      "source": [
        "**Projects Overview**\n",
        "- Mini Projects\n",
        "- Scala Spark\n",
        "- ETL pipeline from AWS S3 to RDS"
      ],
      "metadata": {
        "id": "KCD6bSyVwJ9W"
      }
    },
    {
      "cell_type": "markdown",
      "source": [
        "**What is Scala?**\n",
        "- OOP and functional programming\n",
        "- keeps Java libraries"
      ],
      "metadata": {
        "id": "wv0K_9T6tdu8"
      }
    },
    {
      "cell_type": "markdown",
      "source": [
        "## **Variables in Scala**\n"
      ],
      "metadata": {
        "id": "fqAZe2uktdxt"
      }
    },
    {
      "cell_type": "markdown",
      "source": [
        "### **Data Types**"
      ],
      "metadata": {
        "id": "MBa98uyRtd0R"
      }
    },
    {
      "cell_type": "markdown",
      "source": [
        "- Int\n",
        "- Float\n",
        "- Char\n",
        "- Byte"
      ],
      "metadata": {
        "id": "s2_l-hPStd22"
      }
    },
    {
      "cell_type": "markdown",
      "source": [
        "- Mutable Variables\n",
        "  - change after initialization\n",
        "- Immutable Variables\n",
        "  - cannot change"
      ],
      "metadata": {
        "id": "NF8xjVBLtd5a"
      }
    },
    {
      "cell_type": "markdown",
      "source": [
        "- val is immutable\n",
        "```\n",
        "object Main {\n",
        "  def main(args: Array[String]): Unit = {\n",
        "\n",
        "    val myvariable : Int = 10;\n",
        "    println(myvariable)\n",
        "\t\t// immutable!\n",
        "    myvariable = 15;\n",
        "    println(myvariable)\n",
        "  }\n",
        "}\n",
        "```\n",
        "\n",
        "- var is mutable\n",
        "```\n",
        "object Main {\n",
        "  def main(args: Array[String]): Unit = {\n",
        "\n",
        "    var myvariable : Int = 10;\n",
        "    println(myvariable)\n",
        "\t\t// immutable!\n",
        "    myvariable = 15;\n",
        "    println(myvariable)\n",
        "  }\n",
        "}\n",
        "```\n",
        "\n",
        "- var has different types\n",
        "```\n",
        "object Main {\n",
        "  def main(args: Array[String]): Unit = {\n",
        "\n",
        "    var myvariable : Int = 10;\n",
        "    println(myvariable)\n",
        "\t\t// immutable!\n",
        "    myvariable = 15;\n",
        "    println(myvariable)\n",
        "\n",
        "    var myVariable2: String = \"How\";\n",
        "    print(myVariable2)\n",
        "  }\n",
        "}\n",
        "```"
      ],
      "metadata": {
        "id": "QFAKm45utd7q"
      }
    },
    {
      "cell_type": "markdown",
      "source": [
        "### Arithmatic Operations\n",
        "- +\n",
        "- semicolons are optional\n",
        "- String methods\n",
        "  - ```\n",
        "      object Main {\n",
        "      def main(args: Array[String]): Unit = {\n",
        "\n",
        "        var a : String = \"How are you\";\n",
        "        var b : String = \"I am fine\";\n",
        "\n",
        "        println(a + b);\n",
        "        println(a.concat(b))\n",
        "        println(a.length());  \n",
        "      }\n",
        "    }\n",
        "\n",
        "    How are youI am fine\n",
        "    11\n",
        "    ```"
      ],
      "metadata": {
        "id": "2Q6Xxpp68PaQ"
      }
    },
    {
      "cell_type": "markdown",
      "source": [
        "### Type Casting\n",
        "\n",
        "- get type by **getClass.getName**\n",
        "- change type by **asInstanceOf[new_type]**\n",
        "- change string to integer by **toInt**\n",
        "\n",
        "```\n",
        "object Main {\n",
        "  def main(args: Array[String]): Unit = {\n",
        "  \n",
        "    var a : String = \"How are you\";\n",
        "    var b : String = \"1889\";\n",
        "  \n",
        "    println(a.getClass.getName);\n",
        "    var c = b.toInt;\n",
        "    println(c.getClass.getName);\n",
        "\n",
        "    var i1 = 12;\n",
        "    var i2 = 6.0F;\n",
        "\n",
        "    println(i1.getClass.getName);\n",
        "    println(i2.getClass.getName);\n",
        "\n",
        "    var i3 = i1.asInstanceOf[Float];\n",
        "    var i4 = i2.asInstanceOf[Int];\n",
        "\n",
        "    println(i3.getClass.getName);\n",
        "    println(i4.getClass.getName);\n",
        "  }\n",
        "}\n",
        "```"
      ],
      "metadata": {
        "id": "v1thA4-98Pc7"
      }
    },
    {
      "cell_type": "markdown",
      "source": [
        "### Input from User\n",
        "\n",
        "- **readLine()**\n",
        "- input is by default string, need to cast as integer\n",
        "- \n",
        "\n",
        "```\n",
        "import scala.io.StdIn.readLine\n",
        "\n",
        "object Main {\n",
        "    def main(args: Array[String]): Unit = {\n",
        "  \n",
        "        var x = readLine(\"Enter number 1\");\n",
        "        var y = readLine(\"Enter number 2\");\n",
        "      \tvar x1 = x.toInt;\n",
        "        var y1 = y.toInt;\n",
        "    \n",
        "        println(x1 + y1);\n",
        "        println(x1 * y1);\n",
        "\n",
        "    }\n",
        "}\n",
        "```"
      ],
      "metadata": {
        "id": "JIcSlQXZ8Pfn"
      }
    },
    {
      "cell_type": "markdown",
      "source": [
        "## **Flow Statemtns in Scala**\n"
      ],
      "metadata": {
        "id": "gY2Wd94L8Ph_"
      }
    },
    {
      "cell_type": "markdown",
      "source": [
        "**Two Types**\n",
        "\n",
        "- IF-Else\n",
        "\n",
        "- Loops\n",
        "  - While\n",
        "  - Do-While\n",
        "  - for loop\n",
        "\n",
        "- Breaks and Continue"
      ],
      "metadata": {
        "id": "FeLjxq3VKRuY"
      }
    },
    {
      "cell_type": "markdown",
      "source": [
        "### If Else Statement"
      ],
      "metadata": {
        "id": "OvlSGaCdKTf_"
      }
    },
    {
      "cell_type": "markdown",
      "source": [
        "```\n",
        "import scala.io.StdIn.readLine\n",
        "\n",
        "object Main {\n",
        "    def main(args: Array[String]): Unit = {\n",
        "  \n",
        "        var x = readLine(\"Enter number 1\");\n",
        "        var y = readLine(\"Enter number 2\");\n",
        "        var x1 = x.toInt;\n",
        "        var y1 = y.toInt;\n",
        "\n",
        "        if (x1 > y1) {\n",
        "            println(\"good\");\n",
        "        } else { \n",
        "        \t\tprintln(\"bad\");\n",
        "        }\n",
        "\n",
        "    }\n",
        "}\n",
        "```"
      ],
      "metadata": {
        "id": "wuiK6yx0KTlv"
      }
    },
    {
      "cell_type": "markdown",
      "source": [
        "**Nested If-Else**"
      ],
      "metadata": {
        "id": "gwloJuwBKToj"
      }
    },
    {
      "cell_type": "markdown",
      "source": [
        "**Logical Operators**\n",
        "- && and\n",
        "- || or\n",
        "- ! not\n",
        "\n",
        "```\n",
        "import scala.io.StdIn.readLine\n",
        "\n",
        "object Main {\n",
        "    def main(args: Array[String]): Unit = {\n",
        "  \n",
        "        var x = readLine(\"Enter your age: \");\n",
        "        var y = readLine(\"Enter your height: \");\n",
        "\n",
        "        var x1 = x.toInt;\n",
        "        var y1 = y.toInt;\n",
        "\n",
        "        if (x1 > 13 && y1 > 5) {\n",
        "          var x = readLine(\"Buy card? \");\n",
        "          if (x == \"Yes\") {\n",
        "              println(\"lmao\");\n",
        "          } else {\n",
        "              println(\"ok\");\n",
        "          }\n",
        "        } else if (x1 > 6){ \n",
        "        \t\tprintln(\"bring your mother\");\n",
        "        } else {\n",
        "            println(\"go away\")\n",
        "        }\n",
        "    }\n",
        "}\n",
        "```"
      ],
      "metadata": {
        "id": "3UpwWV9AKTrX"
      }
    },
    {
      "cell_type": "markdown",
      "source": [
        "### While Loop"
      ],
      "metadata": {
        "id": "OdJhgiG7KTt3"
      }
    },
    {
      "cell_type": "markdown",
      "source": [
        "### Do-While Loop\n",
        "- if something needs to be put before the while loop and inside the while loop, e.g. ask for correct answer before the while loop and keep asking until the answer is correct. If the code is long, then have to put it twice, not worth it.\n",
        "- have to initialize the variables in the while condition though\n",
        "\n",
        "```\n",
        "import scala.io.StdIn.readLine\n",
        "\n",
        "import scala.io.StdIn.readLine\n",
        "\n",
        "object Main {\n",
        "    def main(args: Array[String]): Unit = {\n",
        "      var x = \"\";\n",
        "      println(\"please enter Yes\");\n",
        "\n",
        "      do {\n",
        "        // Important that do not initialize x again\n",
        "        x = readLine(\"Enter your answer: \");\n",
        "      }\n",
        "      while(x != \"Yes\");\n",
        "    } \n",
        "}\n",
        "```"
      ],
      "metadata": {
        "id": "R7EtL868KTwn"
      }
    },
    {
      "cell_type": "markdown",
      "source": [
        "### For Loop\n",
        "\n",
        "```\n",
        "import scala.io.StdIn.readLine\n",
        "\n",
        "object Main {\n",
        "    def main(args: Array[String]): Unit = {\n",
        "      var y = readLine(\"please enter a number \");\n",
        "      var x = y.toInt;\n",
        "      // 0 to x are both inclusive\n",
        "      for (i <- 0 to x) {\n",
        "        println(i);\n",
        "      }\n",
        "    }\n",
        "}\n",
        "```"
      ],
      "metadata": {
        "id": "ib8eCmCiKCEi"
      }
    },
    {
      "cell_type": "markdown",
      "source": [
        "### Break\n",
        "```\n",
        "import scala.io.StdIn.readLine\n",
        "import scala.util.control.Breaks._\n",
        "\n",
        "object Main {\n",
        "    def main(args: Array[String]): Unit = {\n",
        "      var y = readLine(\"please enter a number \");\n",
        "      var x = y.toInt;\n",
        "      // 0 to x are both inclusive\n",
        "      for (i <- 0 to x) {\n",
        "        if (i == 10) {\n",
        "          break;\n",
        "        }\n",
        "        println(i);\n",
        "      }\n",
        "    }\n",
        "}\n",
        "```\n",
        "\n",
        "**Break Fix**\n",
        "- Won't throw exceptions\n",
        "\n",
        "```\n",
        "import scala.io.StdIn.readLine\n",
        "import scala.util.control.Breaks._\n",
        "import scala.util.control._\n",
        "\n",
        "object Main {\n",
        "    def main(args: Array[String]): Unit = {\n",
        "      \n",
        "      var y = readLine(\"please enter a number \");\n",
        "      var x = y.toInt;\n",
        "\n",
        "      breakable{      \n",
        "        // 0 to x are both inclusive\n",
        "        for (i <- 0 to x) {\n",
        "          if (i == 10) {\n",
        "            println(\"break break\");\n",
        "            break;\n",
        "          }\n",
        "          println(i);\n",
        "        }\n",
        "      }\n",
        "    }\n",
        "}\n",
        "```"
      ],
      "metadata": {
        "id": "d190jnzgKCHN"
      }
    },
    {
      "cell_type": "markdown",
      "source": [
        "### Flow Control Mini-Project\n",
        "- \n",
        "- \n",
        "\n",
        "```\n",
        "import scala.io.StdIn.readLine\n",
        "import scala.util.control.Breaks._\n",
        "import scala.util.control._\n",
        "import scala.util.Random\n",
        "\n",
        "object Main {\n",
        "    def main(args: Array[String]): Unit = {\n",
        "\n",
        "      var ans = Random.between(0, 100);\n",
        "      //var ans = 10;\n",
        "      var tries = 4;\n",
        "\n",
        "      println(\"Let's guess this number between 0 and 100!\");\n",
        "\n",
        "      breakable{      \n",
        "        // 0 to x are both inclusive\n",
        "        for (i <- 0 to tries) {\n",
        "          var guess = readLine(\"You guess? \");\n",
        "          var guessi = guess.toInt;\n",
        "        \n",
        "          if (guessi > ans) {\n",
        "            println(\"Too much, try again!\")\n",
        "          } else if (guessi < ans) {\n",
        "            println(\"Short, try again!\");\n",
        "          } else {\n",
        "            println(\"You got it! Bravo!\");\n",
        "            break;\n",
        "          }\n",
        "\n",
        "          // prints the attempts left\n",
        "          print(\"you have \");\n",
        "          var remaining = tries - i;\n",
        "          print(remaining);\n",
        "          println(\" attempts left\");\n",
        "\n",
        "          // if no attempts left\n",
        "          if (remaining == 0) {\n",
        "            print(\"You have used all attempts, the number is \");\n",
        "            println(ans);\n",
        "          }\n",
        "        }\n",
        "      }\n",
        "\n",
        "    }\n",
        "}\n",
        "```"
      ],
      "metadata": {
        "id": "1qFj8rs_KCJ5"
      }
    },
    {
      "cell_type": "markdown",
      "source": [],
      "metadata": {
        "id": "DjTfcefqKCMq"
      }
    },
    {
      "cell_type": "markdown",
      "source": [],
      "metadata": {
        "id": "BDfZF7PPKCPR"
      }
    },
    {
      "cell_type": "markdown",
      "source": [],
      "metadata": {
        "id": "etIYJM6nKCR-"
      }
    },
    {
      "cell_type": "markdown",
      "source": [],
      "metadata": {
        "id": "a1684-0XKCUd"
      }
    }
  ]
}