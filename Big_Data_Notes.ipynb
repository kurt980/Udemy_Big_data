{
  "nbformat": 4,
  "nbformat_minor": 0,
  "metadata": {
    "colab": {
      "provenance": [],
      "authorship_tag": "ABX9TyMZ0sEQsEUrnoi1lEZriV2I",
      "include_colab_link": true
    },
    "kernelspec": {
      "name": "python3",
      "display_name": "Python 3"
    },
    "language_info": {
      "name": "python"
    }
  },
  "cells": [
    {
      "cell_type": "markdown",
      "metadata": {
        "id": "view-in-github",
        "colab_type": "text"
      },
      "source": [
        "<a href=\"https://colab.research.google.com/github/kurt980/Udemy_Big_data/blob/main/Big_Data_Notes.ipynb\" target=\"_parent\"><img src=\"https://colab.research.google.com/assets/colab-badge.svg\" alt=\"Open In Colab\"/></a>"
      ]
    },
    {
      "cell_type": "markdown",
      "source": [
        "# Big Data In General\n",
        "\n",
        "References: \n",
        "1. https://cloud.tencent.com/developer/article/1042387\n",
        "2. https://www.cnblogs.com/liyuanhong/articles/14518037.html\n",
        "3. https://blog.csdn.net/wxgxgp/article/details/103540309\n",
        "4. https://cloud.tencent.com/developer/article/2127153?from=article.detail.1042387&areaSource=106000.1&traceId=QP37CvdfaD3-GtPx75JTP\n",
        "\n",
        "\n",
        "\n",
        "\n",
        "\n",
        "\n"
      ],
      "metadata": {
        "id": "EsPbdPyYrW4B"
      }
    },
    {
      "cell_type": "markdown",
      "source": [
        "## I. HDFS\n",
        "\n",
        "1. HDFS(Hadoop Distributed File System)\n",
        "\n",
        "*   Distributed in many machines\n",
        "\n",
        "2. MapReduce/Tez/Spark\n",
        "\n",
        "*   MapReduce\n",
        "\n",
        "First generation. Use hashing to distribute\n",
        "\n",
        "*   Tez\n",
        "\n",
        "Second generation.\n",
        "\n",
        "*   Spark\n",
        "\n",
        "Second generation.\n",
        "\n",
        "*  \n",
        "\n",
        "3. Pig/Hive\n",
        "Query language for databases\n",
        "\n",
        "*   Pig: uses MapReduce\n",
        "*   Hive: uses SQL\n",
        "\n",
        "4. Impala/Presto/Drill\n",
        "\n",
        "*   \n",
        "\n",
        "5. Hive on Tez/Spark/SparkSQL\n",
        "\n",
        "*   \n",
        "\n",
        "上面的介绍，基本就是一个数据仓库的构架了。底层HDFS，上面跑MapReduce/Tez/Spark，在上面跑Hive，Pig。或者HDFS上直接跑Impala，Drill，Presto。这解决了中低速数据处理的要求。"
      ],
      "metadata": {
        "id": "ixYY5X_Z4Q2p"
      }
    },
    {
      "cell_type": "markdown",
      "source": [
        "## II. Streaming\n",
        "\n",
        "1. KV Store\n",
        "\n",
        "*   Cassandra\n",
        "*   HBase\n",
        "*   MongoDB\n",
        "\n",
        "KV Store的理念是，基本无法处理复杂的计算，大多没法JOIN，也许没法聚合，没有强一致性保证(不同数据分布在不同机器上，你每次读取也许会读到不同的结果，也无法处理类似银行转账那样的强一致性要求的操作)。但是丫就是快。极快。\n",
        "\n",
        "2. Mahout\n",
        "\n",
        "3. Protobuf\n",
        "\n",
        "4. ZooKeeper\n",
        "\n",
        "## III. Package Manager"
      ],
      "metadata": {
        "id": "XG8RtS9ZrXdJ"
      }
    },
    {
      "cell_type": "markdown",
      "source": [],
      "metadata": {
        "id": "cV2TZWqVrXfp"
      }
    },
    {
      "cell_type": "markdown",
      "source": [],
      "metadata": {
        "id": "9OLz38x_rXiV"
      }
    },
    {
      "cell_type": "markdown",
      "source": [],
      "metadata": {
        "id": "wo82dulYrXk1"
      }
    },
    {
      "cell_type": "markdown",
      "source": [],
      "metadata": {
        "id": "vO5EvafirW6g"
      }
    },
    {
      "cell_type": "markdown",
      "source": [],
      "metadata": {
        "id": "Dd3ofN_rrW84"
      }
    }
  ]
}